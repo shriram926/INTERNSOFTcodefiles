{
  "nbformat": 4,
  "nbformat_minor": 0,
  "metadata": {
    "colab": {
      "name": "DAY5codefile.ipynb",
      "provenance": [],
      "authorship_tag": "ABX9TyMh++x41E986JbT4AqzRheC",
      "include_colab_link": true
    },
    "kernelspec": {
      "name": "python3",
      "display_name": "Python 3"
    }
  },
  "cells": [
    {
      "cell_type": "markdown",
      "metadata": {
        "id": "view-in-github",
        "colab_type": "text"
      },
      "source": [
        "<a href=\"https://colab.research.google.com/github/shriram926/INTERNSOFTcodefiles/blob/main/DAY5codefile.ipynb\" target=\"_parent\"><img src=\"https://colab.research.google.com/assets/colab-badge.svg\" alt=\"Open In Colab\"/></a>"
      ]
    },
    {
      "cell_type": "code",
      "metadata": {
        "id": "A1UwUR6HSAZU"
      },
      "source": [
        "import math"
      ],
      "execution_count": 2,
      "outputs": []
    },
    {
      "cell_type": "code",
      "metadata": {
        "colab": {
          "base_uri": "https://localhost:8080/"
        },
        "id": "NM8JmjobSZjK",
        "outputId": "3e64d786-b169-440b-e923-f3c9e4cfa7d7"
      },
      "source": [
        "math.ceil(2.4)"
      ],
      "execution_count": 3,
      "outputs": [
        {
          "output_type": "execute_result",
          "data": {
            "text/plain": [
              "3"
            ]
          },
          "metadata": {
            "tags": []
          },
          "execution_count": 3
        }
      ]
    },
    {
      "cell_type": "code",
      "metadata": {
        "colab": {
          "base_uri": "https://localhost:8080/"
        },
        "id": "oTCLCYlVSgWZ",
        "outputId": "84f13473-2da7-4435-8696-c53f58c68a94"
      },
      "source": [
        "print(dir(math))"
      ],
      "execution_count": 4,
      "outputs": [
        {
          "output_type": "stream",
          "text": [
            "['__doc__', '__loader__', '__name__', '__package__', '__spec__', 'acos', 'acosh', 'asin', 'asinh', 'atan', 'atan2', 'atanh', 'ceil', 'copysign', 'cos', 'cosh', 'degrees', 'e', 'erf', 'erfc', 'exp', 'expm1', 'fabs', 'factorial', 'floor', 'fmod', 'frexp', 'fsum', 'gamma', 'gcd', 'hypot', 'inf', 'isclose', 'isfinite', 'isinf', 'isnan', 'ldexp', 'lgamma', 'log', 'log10', 'log1p', 'log2', 'modf', 'nan', 'pi', 'pow', 'radians', 'sin', 'sinh', 'sqrt', 'tan', 'tanh', 'tau', 'trunc']\n"
          ],
          "name": "stdout"
        }
      ]
    },
    {
      "cell_type": "code",
      "metadata": {
        "colab": {
          "base_uri": "https://localhost:8080/"
        },
        "id": "E7eWDxbpTW_L",
        "outputId": "837b046d-3d89-4700-eeaa-72ddeb5cc7ea"
      },
      "source": [
        "help(math.ceil)"
      ],
      "execution_count": 5,
      "outputs": [
        {
          "output_type": "stream",
          "text": [
            "Help on built-in function ceil in module math:\n",
            "\n",
            "ceil(...)\n",
            "    ceil(x)\n",
            "    \n",
            "    Return the ceiling of x as an Integral.\n",
            "    This is the smallest integer >= x.\n",
            "\n"
          ],
          "name": "stdout"
        }
      ]
    },
    {
      "cell_type": "code",
      "metadata": {
        "colab": {
          "base_uri": "https://localhost:8080/",
          "height": 296
        },
        "id": "OFxNhjXjTeLX",
        "outputId": "2c88a1e5-4faf-4783-bacc-1960bb9699a0"
      },
      "source": [
        "import foo.bar"
      ],
      "execution_count": 6,
      "outputs": [
        {
          "output_type": "error",
          "ename": "ModuleNotFoundError",
          "evalue": "ignored",
          "traceback": [
            "\u001b[0;31m---------------------------------------------------------------------------\u001b[0m",
            "\u001b[0;31mModuleNotFoundError\u001b[0m                       Traceback (most recent call last)",
            "\u001b[0;32m<ipython-input-6-55da487b42c6>\u001b[0m in \u001b[0;36m<module>\u001b[0;34m()\u001b[0m\n\u001b[0;32m----> 1\u001b[0;31m \u001b[0;32mimport\u001b[0m \u001b[0mfoo\u001b[0m\u001b[0;34m.\u001b[0m\u001b[0mbar\u001b[0m\u001b[0;34m\u001b[0m\u001b[0;34m\u001b[0m\u001b[0m\n\u001b[0m",
            "\u001b[0;31mModuleNotFoundError\u001b[0m: No module named 'foo'",
            "",
            "\u001b[0;31m---------------------------------------------------------------------------\u001b[0;32m\nNOTE: If your import is failing due to a missing package, you can\nmanually install dependencies using either !pip or !apt.\n\nTo view examples of installing some common dependencies, click the\n\"Open Examples\" button below.\n\u001b[0;31m---------------------------------------------------------------------------\u001b[0m\n"
          ]
        }
      ]
    },
    {
      "cell_type": "code",
      "metadata": {
        "colab": {
          "base_uri": "https://localhost:8080/",
          "height": 128
        },
        "id": "IZSzPE3yTh6z",
        "outputId": "ec09ff82-952f-47fa-f153-f73fcf9dc7a3"
      },
      "source": [
        "__init__.py:\r\n",
        "\r\n",
        "__all__ = [\"bar\"]"
      ],
      "execution_count": 7,
      "outputs": [
        {
          "output_type": "error",
          "ename": "SyntaxError",
          "evalue": "ignored",
          "traceback": [
            "\u001b[0;36m  File \u001b[0;32m\"<ipython-input-7-45d8bf1c62c0>\"\u001b[0;36m, line \u001b[0;32m1\u001b[0m\n\u001b[0;31m    __init__.py:\u001b[0m\n\u001b[0m                ^\u001b[0m\n\u001b[0;31mSyntaxError\u001b[0m\u001b[0;31m:\u001b[0m invalid syntax\n"
          ]
        }
      ]
    },
    {
      "cell_type": "code",
      "metadata": {
        "colab": {
          "base_uri": "https://localhost:8080/",
          "height": 128
        },
        "id": "yc-mZ1l9Tl7i",
        "outputId": "9006e8c7-fc4c-4671-edee-95365109521b"
      },
      "source": [
        "print('Hello)"
      ],
      "execution_count": 8,
      "outputs": [
        {
          "output_type": "error",
          "ename": "SyntaxError",
          "evalue": "ignored",
          "traceback": [
            "\u001b[0;36m  File \u001b[0;32m\"<ipython-input-8-db8c9988558c>\"\u001b[0;36m, line \u001b[0;32m1\u001b[0m\n\u001b[0;31m    print('Hello)\u001b[0m\n\u001b[0m                 ^\u001b[0m\n\u001b[0;31mSyntaxError\u001b[0m\u001b[0;31m:\u001b[0m EOL while scanning string literal\n"
          ]
        }
      ]
    },
    {
      "cell_type": "code",
      "metadata": {
        "colab": {
          "base_uri": "https://localhost:8080/"
        },
        "id": "fo3TRvsvTxL4",
        "outputId": "cfb6e455-a93c-49bc-a48f-6a834cd047f2"
      },
      "source": [
        "try:\r\n",
        "    f = open('testfile','w')\r\n",
        "    f.write('Test write this')\r\n",
        "except IOError:\r\n",
        "    # This will only check for an IOError exception and then execute this print statement\r\n",
        "   print(\"Error: Could not find file or read data\")\r\n",
        "else:\r\n",
        "   print(\"Content written successfully\")\r\n",
        "   f.close()"
      ],
      "execution_count": 9,
      "outputs": [
        {
          "output_type": "stream",
          "text": [
            "Content written successfully\n"
          ],
          "name": "stdout"
        }
      ]
    },
    {
      "cell_type": "code",
      "metadata": {
        "colab": {
          "base_uri": "https://localhost:8080/"
        },
        "id": "RDrHpxg2T3Qj",
        "outputId": "76e1bd57-a441-4d9c-d30e-039a1073076a"
      },
      "source": [
        "try:\r\n",
        "    f = open('testfile','r')\r\n",
        "    f.write('Test write this')\r\n",
        "except IOError:\r\n",
        "    # This will only check for an IOError exception and then execute this print statement\r\n",
        "   print(\"Error: Could not find file or read data\")\r\n",
        "else:\r\n",
        "   print(\"Content written successfully\")\r\n",
        "   f.close()"
      ],
      "execution_count": 10,
      "outputs": [
        {
          "output_type": "stream",
          "text": [
            "Error: Could not find file or read data\n"
          ],
          "name": "stdout"
        }
      ]
    },
    {
      "cell_type": "code",
      "metadata": {
        "colab": {
          "base_uri": "https://localhost:8080/"
        },
        "id": "ECaA4x6bT8y2",
        "outputId": "de728eec-3e8e-4343-e958-9e7cc17e2908"
      },
      "source": [
        "try:\r\n",
        "    f = open('testfile','w')\r\n",
        "    f.write('Test write this')\r\n",
        "except:\r\n",
        "    # This will check for any exception and then execute this print statement\r\n",
        "   print(\"Error: Could not find file or read data\")\r\n",
        "else:\r\n",
        "   print(\"Content written successfully\")\r\n",
        "   f.close()"
      ],
      "execution_count": 11,
      "outputs": [
        {
          "output_type": "stream",
          "text": [
            "Content written successfully\n"
          ],
          "name": "stdout"
        }
      ]
    },
    {
      "cell_type": "code",
      "metadata": {
        "colab": {
          "base_uri": "https://localhost:8080/"
        },
        "id": "CVSubaLlUB3T",
        "outputId": "931ed3d5-532a-447f-b57d-dd35da02c447"
      },
      "source": [
        "try:\r\n",
        "   f = open(\"testfile\", \"w\")\r\n",
        "   f.write(\"Test write statement\")\r\n",
        "finally:\r\n",
        "   print(\"Always execute finally code blocks\")"
      ],
      "execution_count": 12,
      "outputs": [
        {
          "output_type": "stream",
          "text": [
            "Always execute finally code blocks\n"
          ],
          "name": "stdout"
        }
      ]
    },
    {
      "cell_type": "code",
      "metadata": {
        "id": "5uCioBCpUFoP"
      },
      "source": [
        "def askint():\r\n",
        "        try:\r\n",
        "            val = int(input(\"Please enter an integer: \"))\r\n",
        "        except:\r\n",
        "            print(\"Looks like you did not enter an integer!\")\r\n",
        "            \r\n",
        "        finally:\r\n",
        "            print(\"Finally, I executed!\")\r\n",
        "        print(val) "
      ],
      "execution_count": 13,
      "outputs": []
    },
    {
      "cell_type": "code",
      "metadata": {
        "colab": {
          "base_uri": "https://localhost:8080/"
        },
        "id": "i1NVlz45UJRt",
        "outputId": "ec7edb11-db05-42d1-bda7-74bb3f1825ae"
      },
      "source": [
        "askint()"
      ],
      "execution_count": 15,
      "outputs": [
        {
          "output_type": "stream",
          "text": [
            "Please enter an integer: 123\n",
            "Finally, I executed!\n",
            "123\n"
          ],
          "name": "stdout"
        }
      ]
    },
    {
      "cell_type": "code",
      "metadata": {
        "colab": {
          "base_uri": "https://localhost:8080/"
        },
        "id": "1GI5_t4FUiTc",
        "outputId": "6482018c-b240-474c-87be-e902a0af65f4"
      },
      "source": [
        "askint()"
      ],
      "execution_count": 16,
      "outputs": [
        {
          "output_type": "stream",
          "text": [
            "Please enter an integer: 123\n",
            "Finally, I executed!\n",
            "123\n"
          ],
          "name": "stdout"
        }
      ]
    },
    {
      "cell_type": "code",
      "metadata": {
        "id": "cUOGrHZKUniM"
      },
      "source": [
        "def askint():\r\n",
        "        try:\r\n",
        "            val = int(input(\"Please enter an integer: \"))\r\n",
        "        except:\r\n",
        "            print(\"Looks like you did not enter an integer!\")\r\n",
        "            val = int(input(\"Try again-Please enter an integer: \"))\r\n",
        "        finally:\r\n",
        "            print(\"Finally, I executed!\")\r\n",
        "        print(val)"
      ],
      "execution_count": 17,
      "outputs": []
    },
    {
      "cell_type": "code",
      "metadata": {
        "colab": {
          "base_uri": "https://localhost:8080/"
        },
        "id": "EQ8VHfwqUruI",
        "outputId": "40116e88-7d6c-453d-e58e-342f98182289"
      },
      "source": [
        "askint()"
      ],
      "execution_count": 18,
      "outputs": [
        {
          "output_type": "stream",
          "text": [
            "Please enter an integer: str\n",
            "Looks like you did not enter an integer!\n",
            "Try again-Please enter an integer: 123\n",
            "Finally, I executed!\n",
            "123\n"
          ],
          "name": "stdout"
        }
      ]
    },
    {
      "cell_type": "code",
      "metadata": {
        "id": "as3eKkd3U1pc"
      },
      "source": [
        "def askint():\r\n",
        "    while True:\r\n",
        "        try:\r\n",
        "            val = int(input(\"Please enter an integer: \"))\r\n",
        "        except:\r\n",
        "            print(\"Looks like you did not enter an integer!\")\r\n",
        "            continue\r\n",
        "        else:\r\n",
        "            print('Yep thats an integer!')\r\n",
        "            break\r\n",
        "        finally:\r\n",
        "            print(\"Finally, I executed!\")\r\n",
        "        print(val)"
      ],
      "execution_count": 19,
      "outputs": []
    },
    {
      "cell_type": "code",
      "metadata": {
        "colab": {
          "base_uri": "https://localhost:8080/"
        },
        "id": "qf2peusNVB4A",
        "outputId": "c9dfd13a-1123-4ce4-8a0b-b237d1f565bb"
      },
      "source": [
        "askint()"
      ],
      "execution_count": 20,
      "outputs": [
        {
          "output_type": "stream",
          "text": [
            "Please enter an integer: asd\n",
            "Looks like you did not enter an integer!\n",
            "Finally, I executed!\n",
            "Please enter an integer: str\n",
            "Looks like you did not enter an integer!\n",
            "Finally, I executed!\n",
            "Please enter an integer: wee\n",
            "Looks like you did not enter an integer!\n",
            "Finally, I executed!\n",
            "Please enter an integer: abc\n",
            "Looks like you did not enter an integer!\n",
            "Finally, I executed!\n",
            "Please enter an integer: 123\n",
            "Yep thats an integer!\n",
            "Finally, I executed!\n"
          ],
          "name": "stdout"
        }
      ]
    },
    {
      "cell_type": "code",
      "metadata": {
        "colab": {
          "base_uri": "https://localhost:8080/"
        },
        "id": "MzR7GMs8VZY5",
        "outputId": "413430d5-7dfe-4a34-f1fb-8a09060e753d"
      },
      "source": [
        "import sqlite3\r\n",
        "db = sqlite3.connect(\"my_database1.db\")\r\n",
        "db.execute(\"drop table if exists grades1\")\r\n",
        "db.execute(\"create table grades1(id int, name text, score int)\")\r\n",
        "db.execute(\"insert into grades1(id, name, score) values(101, 'John',99 )\")\r\n",
        "db.execute(\"insert into grades1(id, name, score) values(102, 'Gary',90 )\")\r\n",
        "db.execute(\"insert into grades1(id, name, score) values(103, 'James', 80 )\")\r\n",
        "db.execute(\"insert into grades1(id, name, score) values(104, 'Cathy', 85 )\")\r\n",
        "db.execute(\"insert into grades1(id, name, score) values(105, 'Kris',95 )\")"
      ],
      "execution_count": 21,
      "outputs": [
        {
          "output_type": "execute_result",
          "data": {
            "text/plain": [
              "<sqlite3.Cursor at 0x7f20d10ba2d0>"
            ]
          },
          "metadata": {
            "tags": []
          },
          "execution_count": 21
        }
      ]
    },
    {
      "cell_type": "code",
      "metadata": {
        "id": "w4lyoBSRVtTl"
      },
      "source": [
        "db.commit()"
      ],
      "execution_count": 23,
      "outputs": []
    },
    {
      "cell_type": "code",
      "metadata": {
        "colab": {
          "base_uri": "https://localhost:8080/"
        },
        "id": "WH0EjU5GV0eM",
        "outputId": "ebd712ff-f2f4-4f44-a66d-9751f4de4985"
      },
      "source": [
        "results = db.execute(\"select * from grades1 order by id\")\r\n",
        "for row in results:\r\n",
        "    print(row)\r\n",
        "print(\"-\" * 60 )"
      ],
      "execution_count": 24,
      "outputs": [
        {
          "output_type": "stream",
          "text": [
            "(101, 'John', 99)\n",
            "(102, 'Gary', 90)\n",
            "(103, 'James', 80)\n",
            "(104, 'Cathy', 85)\n",
            "(105, 'Kris', 95)\n",
            "------------------------------------------------------------\n"
          ],
          "name": "stdout"
        }
      ]
    },
    {
      "cell_type": "code",
      "metadata": {
        "colab": {
          "base_uri": "https://localhost:8080/"
        },
        "id": "UxDuaeEHV5jG",
        "outputId": "580948c7-b33b-4722-ec68-43835a7be674"
      },
      "source": [
        "results = db.execute(\"select * from grades1 where name = 'Gary' \")\r\n",
        "for row in results:\r\n",
        "    print(row)\r\n",
        "print(\"-\" * 60 )"
      ],
      "execution_count": 25,
      "outputs": [
        {
          "output_type": "stream",
          "text": [
            "(102, 'Gary', 90)\n",
            "------------------------------------------------------------\n"
          ],
          "name": "stdout"
        }
      ]
    },
    {
      "cell_type": "code",
      "metadata": {
        "colab": {
          "base_uri": "https://localhost:8080/"
        },
        "id": "ke3I5UyPV-zA",
        "outputId": "6d4bf422-907b-4ef0-cbcd-04145293ed45"
      },
      "source": [
        "results = db.execute(\"select * from grades1 where score >= 90 \")\r\n",
        "for row in results:\r\n",
        "    print(row)\r\n",
        "print(\"-\" * 60 )"
      ],
      "execution_count": 26,
      "outputs": [
        {
          "output_type": "stream",
          "text": [
            "(101, 'John', 99)\n",
            "(102, 'Gary', 90)\n",
            "(105, 'Kris', 95)\n",
            "------------------------------------------------------------\n"
          ],
          "name": "stdout"
        }
      ]
    },
    {
      "cell_type": "code",
      "metadata": {
        "colab": {
          "base_uri": "https://localhost:8080/"
        },
        "id": "J5YyHzMHWHvS",
        "outputId": "a67d00c7-17ea-462a-8f87-ce0d1fac93b2"
      },
      "source": [
        "results = db.execute(\"select name, score from grades1 order by score desc \")\r\n",
        "for row in results:\r\n",
        "    print(row)\r\n",
        "print(\"-\" * 60 )"
      ],
      "execution_count": 27,
      "outputs": [
        {
          "output_type": "stream",
          "text": [
            "('John', 99)\n",
            "('Kris', 95)\n",
            "('Gary', 90)\n",
            "('Cathy', 85)\n",
            "('James', 80)\n",
            "------------------------------------------------------------\n"
          ],
          "name": "stdout"
        }
      ]
    },
    {
      "cell_type": "code",
      "metadata": {
        "colab": {
          "base_uri": "https://localhost:8080/"
        },
        "id": "yW32whjEWLRV",
        "outputId": "2a0fd435-44f6-44ce-9be4-8e71d98e1215"
      },
      "source": [
        "results = db.execute(\"select name, score from grades1 order by score\")\r\n",
        "for row in results:\r\n",
        "    print(row)\r\n",
        "print(\"-\" * 60 )"
      ],
      "execution_count": 28,
      "outputs": [
        {
          "output_type": "stream",
          "text": [
            "('James', 80)\n",
            "('Cathy', 85)\n",
            "('Gary', 90)\n",
            "('Kris', 95)\n",
            "('John', 99)\n",
            "------------------------------------------------------------\n"
          ],
          "name": "stdout"
        }
      ]
    },
    {
      "cell_type": "code",
      "metadata": {
        "colab": {
          "base_uri": "https://localhost:8080/"
        },
        "id": "kXqx4UdNWPDb",
        "outputId": "84c0bcbc-2423-43ea-b323-bbd0040fe310"
      },
      "source": [
        "results = db.execute(\"select name, score from grades1 order by score\")\r\n",
        "for row in results:\r\n",
        "    print(row)"
      ],
      "execution_count": 29,
      "outputs": [
        {
          "output_type": "stream",
          "text": [
            "('James', 80)\n",
            "('Cathy', 85)\n",
            "('Gary', 90)\n",
            "('Kris', 95)\n",
            "('John', 99)\n"
          ],
          "name": "stdout"
        }
      ]
    }
  ]
}